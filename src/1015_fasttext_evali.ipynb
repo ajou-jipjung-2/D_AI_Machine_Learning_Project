{
 "cells": [
  {
   "cell_type": "code",
   "execution_count": 1,
   "metadata": {},
   "outputs": [
    {
     "name": "stdout",
     "output_type": "stream",
     "text": [
      "load_model_success!!\n"
     ]
    }
   ],
   "source": [
    "from gensim.models import fasttext as fText\n",
    "from sklearn.manifold import TSNE\n",
    "import matplotlib.pylab as plt\n",
    "import pandas as pd\n",
    "import numpy as np\n",
    "from matplotlib import font_manager, rc\n",
    "import fasttext as ft\n",
    "\n",
    "model = None\n",
    "vocab_list = None\n",
    "adj_list = None\n",
    "\n",
    "model = fText.load_facebook_model('./fasttext/fasttext.bin')\n",
    "print(\"load_model_success!!\")\n",
    "vocab_list = open(\"label_list.txt\", 'r', encoding=\"utf-8\").read().split()\n",
    "adj_list = open(\"adj_list.txt\", 'r', encoding=\"utf-8\").read().split()\n",
    "\n"
   ]
  },
  {
   "cell_type": "code",
   "execution_count": 18,
   "metadata": {},
   "outputs": [],
   "source": [
    "    def makeSentence2(k1, k2,sel_N,temp1,temp2,num):\n",
    "        global model, vocab_list, adj_list\n",
    "        select_label = sel_N\n",
    "        #     for item in sm_A_list:\n",
    "        #         if item[0]=='신호등':\n",
    "        #             select_label = item\n",
    "\n",
    "        k3 = k1 +temp1+\" \" + k2 +temp2\n",
    "        adj_A_list = []\n",
    "        adj_B_list = []\n",
    "        for adj_item in adj_list:\n",
    "            adj_A = model.similarity(adj_item, k3)\n",
    "            adj_B = model.similarity(adj_item, select_label)\n",
    "            adj_A_list.append([k3+\" \"+adj_item+\" \"+select_label, adj_A * adj_B])\n",
    "        adj_A_list = sorted(adj_A_list, key=lambda acc: acc[1], reverse=True)\n",
    "#         adj_A_list_index = [i[0] for i in adj_A_list[:num]]\n",
    "        # print(\"adj_A_list_index\", adj_A_list_index)\n",
    "        return adj_A_list[:num]"
   ]
  },
  {
   "cell_type": "code",
   "execution_count": 69,
   "metadata": {},
   "outputs": [
    {
     "name": "stdout",
     "output_type": "stream",
     "text": [
      "hello\n"
     ]
    },
    {
     "name": "stderr",
     "output_type": "stream",
     "text": [
      "C:\\Users\\choi\\Anaconda3\\lib\\site-packages\\ipykernel_launcher.py:33: DeprecationWarning: Call to deprecated `similarity` (Method will be removed in 4.0.0, use self.wv.similarity() instead).\n",
      "C:\\Users\\choi\\Anaconda3\\lib\\site-packages\\ipykernel_launcher.py:34: DeprecationWarning: Call to deprecated `similarity` (Method will be removed in 4.0.0, use self.wv.similarity() instead).\n",
      "C:\\Users\\choi\\Anaconda3\\lib\\site-packages\\ipykernel_launcher.py:35: DeprecationWarning: Call to deprecated `similarity` (Method will be removed in 4.0.0, use self.wv.similarity() instead).\n",
      "C:\\Users\\choi\\Anaconda3\\lib\\site-packages\\ipykernel_launcher.py:68: DeprecationWarning: Call to deprecated `similarity` (Method will be removed in 4.0.0, use self.wv.similarity() instead).\n",
      "C:\\Users\\choi\\Anaconda3\\lib\\site-packages\\ipykernel_launcher.py:69: DeprecationWarning: Call to deprecated `similarity` (Method will be removed in 4.0.0, use self.wv.similarity() instead).\n",
      "C:\\Users\\choi\\Anaconda3\\lib\\site-packages\\ipykernel_launcher.py:70: DeprecationWarning: Call to deprecated `similarity` (Method will be removed in 4.0.0, use self.wv.similarity() instead).\n",
      "C:\\Users\\choi\\Anaconda3\\lib\\site-packages\\ipykernel_launcher.py:71: DeprecationWarning: Call to deprecated `similarity` (Method will be removed in 4.0.0, use self.wv.similarity() instead).\n",
      "C:\\Users\\choi\\Anaconda3\\lib\\site-packages\\ipykernel_launcher.py:72: DeprecationWarning: Call to deprecated `similarity` (Method will be removed in 4.0.0, use self.wv.similarity() instead).\n"
     ]
    },
    {
     "data": {
      "text/plain": [
       "[['소리대신 진동이 반대되는 신호등',\n",
       "  '소리대신 진동이 안전한 신호등',\n",
       "  '소리대신 진동이 달려드는 신호등',\n",
       "  '소리대신 진동이 안내하는 신호등',\n",
       "  '소리대신 진동이 함께한 신호등',\n",
       "  '소리대신 진동이 뛰어가는 신호등',\n",
       "  '소리대신 진동이 속삭이는 신호등',\n",
       "  '소리대신 진동이 춤추는 신호등',\n",
       "  '소리대신 진동이 반짝이는 신호등',\n",
       "  '소리대신 진동이 행복한 신호등',\n",
       "  '소리대신 진동이 뒤집은 신호등',\n",
       "  '소리대신 진동이 불편한 신호등',\n",
       "  '소리대신 진동이 빨간 신호등',\n",
       "  '소리대신 진동이 소용없는 신호등',\n",
       "  '소리대신 진동이 수집된 신호등',\n",
       "  '소리대신 진동이 지저분한 신호등',\n",
       "  '소리대신 진동이 녹여진 신호등',\n",
       "  '소리대신 진동이 평화로운 신호등',\n",
       "  '소리대신 진동을 표시하는 신호등',\n",
       "  '소리대신 진동이 다가가는 신호등'],\n",
       " ['소리와 진동이 상당한 신호등',\n",
       "  '소리가 진동으로 수집된 신호등',\n",
       "  '소리가 진동으로 의존한 신호등',\n",
       "  '소리가 진동으로 고급스런 신호등',\n",
       "  '소리에 진동을 굵어지는 신호등',\n",
       "  '소리가 진동으로 불편한 신호등',\n",
       "  '소리와 진동을 버려지는 신호등',\n",
       "  '소리와 진동을 비키는 신호등',\n",
       "  '소리에 진동을 조그마한 신호등',\n",
       "  '소리가 진동으로 예방된 신호등',\n",
       "  '소리가 진동으로 반대되는 신호등',\n",
       "  '소리에 진동을 식은 신호등',\n",
       "  '소리와 진동을 양보한 신호등',\n",
       "  '소리에 진동을 커지는 신호등',\n",
       "  '소리와 진동이 건설한 신호등',\n",
       "  '소리와 진동이 설명한 신호등',\n",
       "  '소리가 진동으로 소비한 신호등',\n",
       "  '소리에 진동을 분리되는 신호등',\n",
       "  '소리가 진동으로 신고된 신호등',\n",
       "  '소리와 진동이 안전한 신호등']]"
      ]
     },
     "execution_count": 69,
     "metadata": {},
     "output_type": "execute_result"
    }
   ],
   "source": [
    "# 초성 리스트. 00 ~ 18\n",
    "CHOSUNG_LIST = ['ㄱ', 'ㄲ', 'ㄴ', 'ㄷ', 'ㄸ', 'ㄹ', 'ㅁ', 'ㅂ', 'ㅃ', 'ㅅ', 'ㅆ', 'ㅇ', 'ㅈ', 'ㅉ', 'ㅊ', 'ㅋ', 'ㅌ', 'ㅍ', 'ㅎ']\n",
    "# 중성 리스트. 00 ~ 20\n",
    "JUNGSUNG_LIST = ['ㅏ', 'ㅐ', 'ㅑ', 'ㅒ', 'ㅓ', 'ㅔ', 'ㅕ', 'ㅖ', 'ㅗ', 'ㅘ', 'ㅙ', 'ㅚ', 'ㅛ', 'ㅜ', 'ㅝ', 'ㅞ', 'ㅟ', 'ㅠ', 'ㅡ', 'ㅢ', 'ㅣ']\n",
    "# 종성 리스트. 00 ~ 27 + 1(1개 없음)\n",
    "JONGSUNG_LIST = [' ', 'ㄱ', 'ㄲ', 'ㄳ', 'ㄴ', 'ㄵ', 'ㄶ', 'ㄷ', 'ㄹ', 'ㄺ', 'ㄻ', 'ㄼ', 'ㄽ', 'ㄾ', 'ㄿ', 'ㅀ', 'ㅁ', 'ㅂ', 'ㅄ', 'ㅅ', 'ㅆ', 'ㅇ', 'ㅈ', 'ㅊ', 'ㅋ', 'ㅌ', 'ㅍ', 'ㅎ']\n",
    "\n",
    "def end_check(w):\n",
    "    ## 588개 마다 초성이 바뀜. \n",
    "    ch1 = (ord(w) - ord('가'))//588\n",
    "    ## 중성은 총 28가지 종류\n",
    "    ch2 = ((ord(w) - ord('가')) - (588*ch1)) // 28\n",
    "    ch3 = (ord(w) - ord('가')) - (588*ch1) - 28*ch2\n",
    "    return JONGSUNG_LIST[ch3]\n",
    "\n",
    "k1 = \"소리\"\n",
    "k2 = \"진동\"\n",
    "sel_N_list = [\"신호등\",\"자동차\"]\n",
    "num=20\n",
    "print(\"hello\")\n",
    "def makeSentence2_new(k1,k2,sel_N_list,num):\n",
    "    global model, vocab_list, adj_list\n",
    "    adj_A_list=[]\n",
    "    adj_B_list=[]\n",
    "    check_point1 = end_check(k1[-1])\n",
    "    check_point2 = end_check(k2[-1])\n",
    "    for adj_item in adj_list:\n",
    "        if check_point2 ==' ':\n",
    "            sen1 = k1 +\"대신 \" + k2 +\"가\"\n",
    "            sen2 = k1 +\"대신 \" + k2 +\"를\"\n",
    "        else:\n",
    "            sen1 = k1 +\"대신 \" + k2 +\"이\"\n",
    "            sen2 = k1 +\"대신 \" + k2 +\"을\"\n",
    "        a = model.similarity(adj_item, sen1)\n",
    "        en = model.similarity(adj_item, sel_N_list[0])\n",
    "        b = model.similarity(adj_item, sen2)\n",
    "        ab = [[sen1,a],[sen2,b]]\n",
    "        ab=sorted(ab, key=lambda acc: acc[1], reverse=True)\n",
    "        adj_A_list.append([ab[0][0]+\" \"+adj_item+\" \"+sel_N_list[0], a * en])\n",
    "#         if a*b > b*c:\n",
    "#             adj_A_list.append([sen1+\" \"+adj_item+\" \"+sel_N_list[0], a * en])\n",
    "#         else:\n",
    "#             adj_A_list.append([sen1+\" \"+adj_item+\" \"+sel_N_list[0], b * en])\n",
    "        \n",
    "    adj_A_list = sorted(adj_A_list, key=lambda acc: acc[1], reverse=True)\n",
    "#     return adj_A_list[:num]\n",
    "\n",
    "    for adj_item in adj_list:\n",
    "        if check_point1 == ' ':\n",
    "            sen1 = k1 +\"에 \"\n",
    "            sen2 = k1 +\"가 \"\n",
    "            sen3 = k1 +\"와 \"\n",
    "            sen4 = k1 +\"와 \"\n",
    "        else:\n",
    "            sen1 = k1 +\"에 \"\n",
    "            sen2 = k1 +\"이 \"\n",
    "            sen3 = k1 +\"과 \"\n",
    "            sen4 = k1 +\"과 \"\n",
    "        if check_point2 ==' ':\n",
    "            sen1 +=k2 +\"를\"\n",
    "            sen2 +=k2 +\"로\"\n",
    "            sen3 +=k2 +\"가\"\n",
    "            sen4 +=k2 +\"를\"\n",
    "        else:\n",
    "            sen1 +=k2 +\"을\"\n",
    "            sen2 +=k2 +\"으로\"\n",
    "            sen3 +=k2 +\"이\"\n",
    "            sen4 +=k2 +\"을\"\n",
    "        a = model.similarity(adj_item, sen1)\n",
    "        en = model.similarity(adj_item, sel_N_list[1])\n",
    "        b = model.similarity(adj_item, sen2)\n",
    "        c = model.similarity(adj_item, sen3)\n",
    "        d = model.similarity(adj_item, sen4)\n",
    "        ab = [[sen1,a],[sen2,b],[sen3,c],[sen4,d]]\n",
    "        ab=sorted(ab, key=lambda acc: acc[1], reverse=True)\n",
    "        adj_B_list.append([ab[0][0]+\" \"+adj_item+\" \"+sel_N_list[0], a * en])\n",
    "#         if a*b > b*c:\n",
    "#             adj_A_list.append([sen1+\" \"+adj_item+\" \"+sel_N_list[0], a * b])\n",
    "#         else:\n",
    "#             adj_A_list.append([sen1+\" \"+adj_item+\" \"+sel_N_list[0], b * c])\n",
    "        \n",
    "    adj_B_list = sorted(adj_B_list, key=lambda acc: acc[1], reverse=True)\n",
    "    adj_AB_list=[[],[]]\n",
    "    adj_AB_list[0] = [i[0] for i in adj_A_list[:num]]\n",
    "    adj_AB_list[1] = [i[0] for i in adj_B_list[:num]]\n",
    "    return adj_AB_list\n",
    "#     print(adj_B_list)\n",
    "makeSentence2_new(k1,k2,sel_N_list,20)\n",
    "    \n",
    "            "
   ]
  },
  {
   "cell_type": "code",
   "execution_count": 53,
   "metadata": {},
   "outputs": [
    {
     "name": "stderr",
     "output_type": "stream",
     "text": [
      "C:\\Users\\choi\\Anaconda3\\lib\\site-packages\\ipykernel_launcher.py:12: DeprecationWarning: Call to deprecated `similarity` (Method will be removed in 4.0.0, use self.wv.similarity() instead).\n",
      "  if sys.path[0] == '':\n",
      "C:\\Users\\choi\\Anaconda3\\lib\\site-packages\\ipykernel_launcher.py:13: DeprecationWarning: Call to deprecated `similarity` (Method will be removed in 4.0.0, use self.wv.similarity() instead).\n",
      "  del sys.path[0]\n"
     ]
    },
    {
     "name": "stdout",
     "output_type": "stream",
     "text": [
      "[['소리대신 진동이 반대되는 신호등', 0.3575143], ['소리대신 진동을 반대되는 신호등', 0.3563882], ['소리대신 진동이 안전한 신호등', 0.31654426], ['소리대신 진동이 달려드는 신호등', 0.3014171], ['소리대신 진동이 안내하는 신호등', 0.3010396], ['소리대신 진동을 안전한 신호등', 0.29253995], ['소리대신 진동이 함께한 신호등', 0.29088762], ['소리대신 진동이 뛰어가는 신호등', 0.28967252], ['소리대신 진동이 속삭이는 신호등', 0.284612], ['소리대신 진동을 안내하는 신호등', 0.28275937], ['소리대신 진동이 춤추는 신호등', 0.28189495], ['소리대신 진동이 반짝이는 신호등', 0.2793785], ['소리대신 진동이 행복한 신호등', 0.27812377], ['소리대신 진동을 함께한 신호등', 0.2774368], ['소리대신 진동을 불편한 신호등', 0.27244505], ['소리대신 진동을 표시하는 신호등', 0.27160966], ['소리대신 진동을 뛰어가는 신호등', 0.27037832], ['소리대신 진동을 달려드는 신호등', 0.26879638], ['소리대신 진동을 행복한 신호등', 0.26780182], ['소리대신 진동을 들려주는 신호등', 0.2668529]]\n"
     ]
    }
   ],
   "source": [
    "# 초성 리스트. 00 ~ 18\n",
    "CHOSUNG_LIST = ['ㄱ', 'ㄲ', 'ㄴ', 'ㄷ', 'ㄸ', 'ㄹ', 'ㅁ', 'ㅂ', 'ㅃ', 'ㅅ', 'ㅆ', 'ㅇ', 'ㅈ', 'ㅉ', 'ㅊ', 'ㅋ', 'ㅌ', 'ㅍ', 'ㅎ']\n",
    "# 중성 리스트. 00 ~ 20\n",
    "JUNGSUNG_LIST = ['ㅏ', 'ㅐ', 'ㅑ', 'ㅒ', 'ㅓ', 'ㅔ', 'ㅕ', 'ㅖ', 'ㅗ', 'ㅘ', 'ㅙ', 'ㅚ', 'ㅛ', 'ㅜ', 'ㅝ', 'ㅞ', 'ㅟ', 'ㅠ', 'ㅡ', 'ㅢ', 'ㅣ']\n",
    "# 종성 리스트. 00 ~ 27 + 1(1개 없음)\n",
    "JONGSUNG_LIST = [' ', 'ㄱ', 'ㄲ', 'ㄳ', 'ㄴ', 'ㄵ', 'ㄶ', 'ㄷ', 'ㄹ', 'ㄺ', 'ㄻ', 'ㄼ', 'ㄽ', 'ㄾ', 'ㄿ', 'ㅀ', 'ㅁ', 'ㅂ', 'ㅄ', 'ㅅ', 'ㅆ', 'ㅇ', 'ㅈ', 'ㅊ', 'ㅋ', 'ㅌ', 'ㅍ', 'ㅎ']\n",
    "\n",
    "def end_check(w):\n",
    "    ## 588개 마다 초성이 바뀜. \n",
    "    ch1 = (ord(w) - ord('가'))//588\n",
    "    ## 중성은 총 28가지 종류\n",
    "    ch2 = ((ord(w) - ord('가')) - (588*ch1)) // 28\n",
    "    ch3 = (ord(w) - ord('가')) - (588*ch1) - 28*ch2\n",
    "    return JONGSUNG_LIST[ch3]\n",
    "\n",
    "k1 = \"소리\"\n",
    "k2 = \"진동\"\n",
    "sel_N_list = [\"신호등\",\"자동차\"]\n",
    "sentence_list=[[],[]]\n",
    "\n",
    "end_check(k2[-1])\n",
    "if end_check(k2[-1]) ==' ':\n",
    "    sentence_list[0].extend(makeSentence2(k1, k2, sel_N_list[0], \"대신\", \"가\",10))\n",
    "    sentence_list[0].extend(makeSentence2(k1, k2, sel_N_list[0], \"대신\", \"를\",10))\n",
    "else:\n",
    "    sentence_list[0].extend(makeSentence2(k1, k2, sel_N_list[0], \"대신\", \"이\",10))\n",
    "    sentence_list[0].extend(makeSentence2(k1, k2, sel_N_list[0], \"대신\", \"을\",10))\n",
    "adj_A_list = sorted(sentence_list[0], key=lambda acc: acc[1], reverse=True)\n",
    "print(adj_A_list)"
   ]
  }
 ],
 "metadata": {
  "kernelspec": {
   "display_name": "Python 3",
   "language": "python",
   "name": "python3"
  },
  "language_info": {
   "codemirror_mode": {
    "name": "ipython",
    "version": 3
   },
   "file_extension": ".py",
   "mimetype": "text/x-python",
   "name": "python",
   "nbconvert_exporter": "python",
   "pygments_lexer": "ipython3",
   "version": "3.7.4"
  }
 },
 "nbformat": 4,
 "nbformat_minor": 2
}
